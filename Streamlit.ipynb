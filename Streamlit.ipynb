{
 "cells": [
  {
   "cell_type": "code",
   "execution_count": 1,
   "metadata": {},
   "outputs": [],
   "source": [
    "import streamlit as st\n",
    "import joblib\n",
    "import numpy as np"
   ]
  },
  {
   "cell_type": "code",
   "execution_count": 2,
   "metadata": {},
   "outputs": [],
   "source": [
    "# Load the model and the scaler.\n",
    "model = joblib.load('modelo_nn.pkl')\n",
    "scaler = joblib.load('scaler.pkl')"
   ]
  },
  {
   "cell_type": "markdown",
   "metadata": {},
   "source": [
    "## Streamlit APP"
   ]
  },
  {
   "cell_type": "code",
   "execution_count": 3,
   "metadata": {},
   "outputs": [
    {
     "name": "stderr",
     "output_type": "stream",
     "text": [
      "2024-10-17 10:49:01.609 \n",
      "  \u001b[33m\u001b[1mWarning:\u001b[0m to view this Streamlit app on a browser, run it with the following\n",
      "  command:\n",
      "\n",
      "    streamlit run c:\\Users\\alexa\\anaconda3\\Lib\\site-packages\\ipykernel_launcher.py [ARGUMENTS]\n"
     ]
    }
   ],
   "source": [
    "# APP Tittle\n",
    "st.title('Heart Disease Predictor')\n",
    "\n",
    "# APP Description\n",
    "st.write('This app predicts if a patient has heart disease.')"
   ]
  },
  {
   "cell_type": "code",
   "execution_count": 4,
   "metadata": {},
   "outputs": [],
   "source": [
    "# User Inputs\n",
    "age = st.number_input('Age', min_value=1, max_value=120, value=45)\n",
    "sex = st.selectbox('Gender', options=[0, 1], format_func=lambda x: 'Female' if x == 0 else 'Male')\n",
    "chest_pain = st.number_input('Chest Pain (0-3)', min_value=0, max_value=3, value=1)\n",
    "arterial_pressure = st.number_input('Mean Arterial Pressure', min_value=80, max_value=200, value=120)\n",
    "total_cholesterol = st.number_input('Total Cholesterol', min_value=100, max_value=600, value=200)\n",
    "blood_glucose = st.number_input('Fasting blood sugar > 120 mg/dl (0 or 1)', min_value=0, max_value=1, value=0)\n",
    "electrocardiogram_on_rest = st.number_input('Electrocardiogram on Rest (0-2)', min_value=0, max_value=2, value=1)\n",
    "max_heart_rate = st.number_input('Maximun Heart Rate', min_value=60, max_value=220, value=150)\n",
    "exercise_produced_angina = st.number_input('Excercise produced Angina (0 or 1)', min_value=0, max_value=1, value=0)\n",
    "unlevel_ST = st.number_input('Unlevel ST', min_value=0.0, max_value=10.0, value=1.0)\n",
    "segment_st_in_ecg = st.number_input('Segment ST in ECG (0-2)', min_value=0, max_value=2, value=1)\n",
    "main_vessels_coloured_by_fluorescence = st.number_input('Main vessels coloured by Fluorescence (0-3)', min_value=0, max_value=3, value=0)\n",
    "thalium = st.number_input('Thalium (1-3)', min_value=1, max_value=3, value=2)"
   ]
  },
  {
   "cell_type": "code",
   "execution_count": 5,
   "metadata": {},
   "outputs": [],
   "source": [
    "# Prediction\n",
    "if st.button('Predict'):\n",
    "    # Crear un array con las características ingresadas\n",
    "    input_data = np.array([[age, sex, chest_pain, arterial_pressure, total_cholesterol, blood_glucose,\n",
    "                            electrocardiogram_on_rest, max_heart_rate, exercise_produced_angina, unlevel_ST,\n",
    "                            segment_st_in_ecg, main_vessels_coloured_by_fluorescence, thalium]])\n",
    "\n",
    "    # Escalar los datos\n",
    "    input_data_scaled = scaler.transform(input_data)\n",
    "\n",
    "    # Hacer la predicción\n",
    "    prediction = model.predict(input_data_scaled)\n",
    "    \n",
    "    # Mostrar el resultado\n",
    "    if prediction[0] == 1:\n",
    "        st.write('The patient CAN develop heart disease')\n",
    "    else:\n",
    "        st.write('The patient WILL NOT develop heart disease')"
   ]
  }
 ],
 "metadata": {
  "kernelspec": {
   "display_name": "base",
   "language": "python",
   "name": "python3"
  },
  "language_info": {
   "codemirror_mode": {
    "name": "ipython",
    "version": 3
   },
   "file_extension": ".py",
   "mimetype": "text/x-python",
   "name": "python",
   "nbconvert_exporter": "python",
   "pygments_lexer": "ipython3",
   "version": "3.11.7"
  }
 },
 "nbformat": 4,
 "nbformat_minor": 2
}
